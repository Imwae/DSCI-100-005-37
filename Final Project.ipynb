{
 "cells": [
  {
   "cell_type": "markdown",
   "id": "15321c9c-a8f0-43f1-bf5c-3abd04d3d982",
   "metadata": {},
   "source": [
    "# Predicting Experience Level Using Age and Hours Played\n",
    "\n",
    "## Introduction\n",
    "\n",
    "\n",
    "\n",
    "The player dataset includes unique data for each individual player. There are 196 observations, which indicate the number of players in the dataset and 7 variables. \n",
    "\n",
    "|Variable|Type|Description|\n",
    "|--------|----|-----------|\n",
    "|experience|Character|Experience level of a player|\n",
    "|subscribe|Character|If the player is subscribed to the news letter|\n",
    "|hashedEmail|Character|Player's unique hashed email|\n",
    "|played_hours|double|Number of hours played|\n",
    "|name|Character|Name of player|\n",
    "|gender|Character|Gender of player|\n",
    "|Age|Double|Age of player|\n",
    "\n",
    "\n",
    "\n"
   ]
  },
  {
   "cell_type": "code",
   "execution_count": null,
   "id": "6015dbf7-3715-429c-9a10-b6c6cca05cd6",
   "metadata": {},
   "outputs": [],
   "source": []
  }
 ],
 "metadata": {
  "kernelspec": {
   "display_name": "R",
   "language": "R",
   "name": "ir"
  },
  "language_info": {
   "codemirror_mode": "r",
   "file_extension": ".r",
   "mimetype": "text/x-r-source",
   "name": "R",
   "pygments_lexer": "r",
   "version": "4.3.3"
  }
 },
 "nbformat": 4,
 "nbformat_minor": 5
}
