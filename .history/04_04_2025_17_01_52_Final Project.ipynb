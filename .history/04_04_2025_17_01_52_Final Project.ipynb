{
 "cells": [
  {
   "cell_type": "markdown",
   "id": "d18ddf6c-6faa-4721-a98d-f9c6d6a4fdab",
   "metadata": {},
   "source": [
    "# DSCI 100 Group 37: Final Project\n",
    "\n",
    "## Description and usage of the game data:\n",
    "\n",
    "In this project, we will be working with local game data from UBC (University of British Columbia), called PLAIcraft, ran by a group of people in the department of Computer Science. This project aims to conver analysis and modelling of the data, visualizing it graphically to predict any correlations between any variables used. The data consists of two files: Project_Planning_Players.csv and Sessions.  This project will only require the Players data.  "
   ]
  },
  {
   "cell_type": "markdown",
   "id": "15321c9c-a8f0-43f1-bf5c-3abd04d3d982",
   "metadata": {},
   "source": [
    "## Predicting Experience Level Using Age and Hours Played\n",
    "\n",
    "### Introduction\n",
    "\n",
    "\n",
    "\n",
    "The player dataset includes unique data for each individual player. There are 196 observations, which indicate the number of players in the dataset and 7 variables. \n",
    "\n",
    "|Variable|Type|Description|\n",
    "|--------|----|-----------|\n",
    "|experience|Character|Experience level of a player|\n",
    "|subscribe|Character|If the player is subscribed to the news letter|\n",
    "|hashedEmail|Character|Player's unique hashed email|\n",
    "|played_hours|double|Number of hours played|\n",
    "|name|Character|Name of player|\n",
    "|gender|Character|Gender of player|\n",
    "|Age|Double|Age of player|"
   ]
  },
  {
   "cell_type": "markdown",
   "id": "11e8d92d-2177-42ff-a8f9-0adde758120d",
   "metadata": {},
   "source": [
    "## Loading the data into Jupiter\n",
    "\n",
    "Below only the Project_Planning_Players.csv will be loaded in, as it is the only file that we need to complete the project"
   ]
  },
  {
   "cell_type": "code",
   "execution_count": null,
   "id": "69ece06b-98ae-4b0b-81f5-01b1c0b92e9b",
   "metadata": {},
   "outputs": [],
   "source": [
    "library(tidyverse)\n",
    "library(tidymodels)"
   ]
  },
  {
   "cell_type": "code",
   "execution_count": null,
   "id": "71e8548e-1eea-439e-b051-5099ed7c4db7",
   "metadata": {},
   "outputs": [],
   "source": [
    "player_url<- \"https://raw.githubusercontent.com/tiannawong/dsci100-individual-project-/refs/heads/main/players.csv\"\n",
    "\n",
    "player_data <- read_csv(player_url)\n",
    "head(player_data)\n",
    "tail(player_data)"
   ]
  },
  {
   "cell_type": "markdown",
   "id": "e1d6bc5c-bf05-4f33-b68c-f86ec078d86d",
   "metadata": {},
   "source": [
    "The head and the tail is shown above for *Project_Planning_Players.csv*"
   ]
  },
  {
   "cell_type": "markdown",
   "id": "ce8d23fa-83d6-4c7b-bc78-b25f50d3d2db",
   "metadata": {},
   "source": [
    "## Wrangling\n",
    "\n",
    "Below, we want to choose all the columns we need, as we are trying to predict which experience level plays the most for certain age and playing time.  We will make it simplified by selecting only Experience, played_hours, and Age."
   ]
  },
  {
   "cell_type": "code",
   "execution_count": null,
   "id": "ad971f1e-9c54-4ade-8bed-873afdace19d",
   "metadata": {},
   "outputs": [],
   "source": [
    "select_player_data <- player_data |>\n",
    "    mutate(experience = as_factor(experience)) |>\n",
    "    select(experience, Age, played_hours)\n",
    "head(select_player_data)\n",
    "tail(select_player_data)"
   ]
  },
  {
   "cell_type": "markdown",
   "id": "32f5e58b-80ea-4877-8043-74864857e835",
   "metadata": {},
   "source": [
    "## Methods and Results\n",
    "\n",
    "In this project, we want to use k-nn classification to predict a new user's experience level.  Before we model and train the data, we want to perform simple visualizations to get a better understanding of what we are working with.  Below will be graphs that visualize different aspects of the data."
   ]
  },
  {
   "cell_type": "code",
   "execution_count": null,
   "id": "527edd45-61f7-4036-9045-37063afee50c",
   "metadata": {},
   "outputs": [],
   "source": [
    "select_player_data_bar <- select_player_data |>\n",
    "    ggplot(aes(x = experience)) +\n",
    "    geom_bar(stat = \"count\") +\n",
    "    labs(x = \"The experience levels for different players\", title = \"Fig 1: The distribution of different experience levels\")\n",
    "select_player_data_bar"
   ]
  },
  {
   "cell_type": "markdown",
   "id": "a4a90b16-b83a-476b-8d1f-11044f4ee998",
   "metadata": {},
   "source": [
    "Explaination of graph: The gar graph shows the amount of players per experience level.  We can see that there are more amateur players than any other players, followed by veterans."
   ]
  },
  {
   "cell_type": "code",
   "execution_count": null,
   "id": "a7015cca-53fc-4c63-951e-df19fd65637c",
   "metadata": {},
   "outputs": [],
   "source": [
    "select_player_data_plot <- select_player_data |>\n",
    "    mutate(played_mins = (played_hours * 60)) |>\n",
    "    ggplot(aes(x = Age, y = played_mins)) +\n",
    "    ylim(0, 360) +\n",
    "    geom_point(aes(color = experience)) +\n",
    "    labs(x = \"The age in years\", y = \"Number of played hours in minutes\", color = \"Type of experience\", title = \"Fig 2: The relationship between Age and Played hours\")\n",
    "select_player_data_plot"
   ]
  },
  {
   "cell_type": "markdown",
   "id": "a7cff7e5-3d0f-44fb-89e4-a2b04560b721",
   "metadata": {},
   "source": [
    "Explaination of graph: The scatter plot shows age and the different types of experience levels relative to the playing time in minutes.  To make the graph visually pleasing, we had to  limit the amount of play time to 6 hours (360 minutes).  From the graph, we are not able to pick up a pattern on age and playing time"
   ]
  },
  {
   "cell_type": "markdown",
   "id": "8f3825c8-27dd-4c8e-8d9e-905cac0983b8",
   "metadata": {},
   "source": [
    "## Training and modeling data\n",
    "\n",
    "In this portion, we will start to train and model the players data so that we can predict which experience levels fits with a new data point given"
   ]
  },
  {
   "cell_type": "code",
   "execution_count": null,
   "id": "30b98406-4753-46e6-a0ff-4c21ad19bb16",
   "metadata": {},
   "outputs": [],
   "source": [
    "## splitting the data into training and testing data\n",
    "\n",
    "player_split <- select_player_data |>\n",
    "    "
   ]
  }
 ],
 "metadata": {
  "kernelspec": {
   "display_name": "R",
   "language": "R",
   "name": "ir"
  },
  "language_info": {
   "codemirror_mode": "r",
   "file_extension": ".r",
   "mimetype": "text/x-r-source",
   "name": "R",
   "pygments_lexer": "r",
   "version": "4.3.3"
  }
 },
 "nbformat": 4,
 "nbformat_minor": 5
}
