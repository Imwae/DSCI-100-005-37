{
 "cells": [
  {
   "cell_type": "markdown",
   "id": "d18ddf6c-6faa-4721-a98d-f9c6d6a4fdab",
   "metadata": {},
   "source": [
    "# DSCI 100 Group 37: Final Project\n",
    "\n",
    "Raymond Lan, Varun Raval, Tianna Wong, Brendon Yih"
   ]
  },
  {
   "cell_type": "markdown",
   "id": "15321c9c-a8f0-43f1-bf5c-3abd04d3d982",
   "metadata": {},
   "source": [
    "# Predicting Experience Level Using Age and Hours Played\n",
    "\n",
    "## Introduction\n",
    "\n",
    "In this project, we will be working with local game data collected from a virtual world called PLAIcraft, which is run by a Computer Science research group at UBC, led by Frank Wood. PLAIcraft’s primary goal is “to create an advanced artificial intelligence (AI) that can act in a human-like way in a simulated setting” (PLAI, 2025). The data consists of two files: `players.csv` and `sessions.csv`; however, the aim of our analysis only requires the use of `players.csv`. This project aims to confer analysis and modelling of the data, as well as visualizing it graphically to predict any correlations between the variables used. The researchers want to determine what kind of players contribute a significant amount of data so they can target these players during their recruiting efforts. To explore this research goal, we will investigate whether age and playing hours can be used to predict the experience level of a player. The relationship between the variables (experience level, age, and playing hours) will help identify highly engaged players who are more likely to contribute the most data. The analysis of highly engaged players can help the researchers understand player behaviour, which will be used to “train and develop an advanced AI” (PLAI, 2025) that can interact in PLAIcraft more naturally. \n",
    "\n",
    "\n",
    "### Dataset Description \n",
    "\n",
    "The player dataset includes unique data for each individual player. There are 196 observations, which indicate the number of players in the dataset and 7 variables that highlight each players' characteristics and in game behaviour. \n",
    "\n",
    "\n",
    "|Variable        |Type       |Description of Variable                       |\n",
    "|:---------------|:----------|:---------------------------------------------|\n",
    "|experience      |Character  |Experience level of a player                  |\n",
    "|subscribe       |Character  |If the player is subscribed to the news letter|\n",
    "|hashedEmail     |Character  |Player's unique hashed email                  |\n",
    "|played_hours    |Double     |Number of hours played                        |\n",
    "|name            |Character  |Name of player                                |\n",
    "|gender          |Character  |Gender of player                              |\n",
    "|Age             |Double     |Age of player                                 |"
   ]
  },
  {
   "cell_type": "markdown",
   "id": "11e8d92d-2177-42ff-a8f9-0adde758120d",
   "metadata": {},
   "source": [
    "# Methods and Results\n",
    "\n",
    "## Loading the Data into Jupiter\n",
    "\n",
    "Below only the `players.csv` will be loaded in, as it is the only file that we need to complete our data analysis."
   ]
  },
  {
   "cell_type": "code",
   "execution_count": null,
   "id": "69ece06b-98ae-4b0b-81f5-01b1c0b92e9b",
   "metadata": {},
   "outputs": [],
   "source": [
    "library(tidyverse)\n",
    "library(tidymodels)"
   ]
  },
  {
   "cell_type": "code",
   "execution_count": null,
   "id": "71e8548e-1eea-439e-b051-5099ed7c4db7",
   "metadata": {},
   "outputs": [],
   "source": [
    "# Initial data loading\n",
    "\n",
    "player_url<- \"https://raw.githubusercontent.com/tiannawong/dsci100-individual-project-/refs/heads/main/players.csv\"\n",
    "\n",
    "player_data <- read_csv(player_url)\n",
    "head(player_data)"
   ]
  },
  {
   "cell_type": "markdown",
   "id": "e1d6bc5c-bf05-4f33-b68c-f86ec078d86d",
   "metadata": {},
   "source": [
    "The head is shown above for `players.csv`."
   ]
  },
  {
   "cell_type": "markdown",
   "id": "ce8d23fa-83d6-4c7b-bc78-b25f50d3d2db",
   "metadata": {},
   "source": [
    "## Wrangling the Data\n",
    "\n",
    "Below, we will want to choose only the columns that are necessary, since we are trying to predict which experience level plays the most for certain age and playing time.  We will simplify our data by selecting for Experience, played_hours, and Age. We are working with experience as a categorial variable, so we will convert it to a factor type using the `as_factor` function. "
   ]
  },
  {
   "cell_type": "code",
   "execution_count": null,
   "id": "ad971f1e-9c54-4ade-8bed-873afdace19d",
   "metadata": {},
   "outputs": [],
   "source": [
    "# Wrangling data to use only columns that are needed\n",
    "\n",
    "select_player_data <- player_data |>\n",
    "    mutate(experience = as_factor(experience)) |>\n",
    "    select(experience, Age, played_hours) |>\n",
    "    drop_na()\n",
    "head(select_player_data)"
   ]
  },
  {
   "cell_type": "markdown",
   "id": "b0d0a109-787d-4a9a-a3f9-91573a56445f",
   "metadata": {},
   "source": [
    "### Summary Statistics"
   ]
  },
  {
   "cell_type": "code",
   "execution_count": null,
   "id": "3e3fbf47-6afe-4fcc-b6a8-fefa35a303ac",
   "metadata": {},
   "outputs": [],
   "source": [
    "mean_values<- select_player_data|>\n",
    "    select(played_hours, Age)|>\n",
    "    map_df(mean, na.rm= TRUE)\n",
    "mean_values"
   ]
  },
  {
   "cell_type": "markdown",
   "id": "32f5e58b-80ea-4877-8043-74864857e835",
   "metadata": {},
   "source": [
    "## Exploratory Data Analysis and Visualizations\n",
    "\n",
    "In this project, we want to use KNN classification to predict a new user's experience level based on their age and playing hours. Before we model and train the data, we want to perform simple visualizations to get a better understanding of what we are working with.  Below will be graphs that visualize different aspects of the data."
   ]
  },
  {
   "cell_type": "code",
   "execution_count": null,
   "id": "527edd45-61f7-4036-9045-37063afee50c",
   "metadata": {},
   "outputs": [],
   "source": [
    "# Create bar graph with player count of each experience level\n",
    "\n",
    "select_player_data_bar <- select_player_data |>\n",
    "    ggplot(aes(x = experience, fill = experience)) +\n",
    "    geom_bar(stat = \"count\") +\n",
    "    labs(x = \"The Experience Levels for Different Players\", title = \"Fig 1: The Distribution of Different Experience Levels\", fill = \"Experience Level\")\n",
    "select_player_data_bar"
   ]
  },
  {
   "cell_type": "markdown",
   "id": "a4a90b16-b83a-476b-8d1f-11044f4ee998",
   "metadata": {},
   "source": [
    "Explanation of Visualization: Figure 1 is a bar graph that shows the amount of players per experience level.  We can see that there are more amateur players than any other players, followed by veterans. Regular and beginner players are more balanced and pro players make up the smallest group."
   ]
  },
  {
   "cell_type": "code",
   "execution_count": null,
   "id": "a7015cca-53fc-4c63-951e-df19fd65637c",
   "metadata": {},
   "outputs": [],
   "source": [
    "# Create scatterplot with Age vs. played_hours\n",
    "\n",
    "select_player_data_plot <- select_player_data |>\n",
    "    mutate(played_mins = (played_hours * 60)) |>\n",
    "    ggplot(aes(x = Age, y = played_mins)) +\n",
    "    ylim(0, 360) +\n",
    "    geom_point(aes(color = experience)) +\n",
    "    labs(x = \"The age in years\", y = \"Number of played hours in minutes\", color = \"Type of Experience\", title = \"Fig 2: The Relationship Between Age and Played hours\")\n",
    "select_player_data_plot"
   ]
  },
  {
   "cell_type": "markdown",
   "id": "a7cff7e5-3d0f-44fb-89e4-a2b04560b721",
   "metadata": {},
   "source": [
    "Explanation of Visualization: Figure 2 is a scatter plot that shows age and the different types of experience levels relative to the playing time in minutes.  To make the graph visually pleasing, we had to limit the amount of play time to 6 hours (360 minutes).  From the graph, we are not able to pick up a pattern on age and playing time"
   ]
  },
  {
   "cell_type": "markdown",
   "id": "8f3825c8-27dd-4c8e-8d9e-905cac0983b8",
   "metadata": {},
   "source": [
    "## Training and Modeling the Data\n",
    "\n",
    "To ensure that our data analysis is reproducible, we will set my seed value to 123.In this portion, we will start to train and model the players data so that we can predict which experience levels fits with a new data point given."
   ]
  },
  {
   "cell_type": "code",
   "execution_count": null,
   "id": "dff2e1b1-f96b-453f-a810-524e5eaf380b",
   "metadata": {},
   "outputs": [],
   "source": [
    "# create the 25/75 split of the training data into training and validation\n",
    "set.seed(123)\n",
    "player_split <- select_player_data |>\n",
    "    drop_na()|>\n",
    "    initial_split(prop = 0.75, strata = experience)\n",
    "player_training <- training(player_split)\n",
    "player_testing <- testing(player_split)\n",
    "\n",
    "head(player_training)\n",
    "head(player_testing)"
   ]
  },
  {
   "cell_type": "code",
   "execution_count": null,
   "id": "665fc5c0-7d03-480b-80e1-7271e9d67236",
   "metadata": {},
   "outputs": [],
   "source": [
    "# create the standardization recipe (scaling all predictors of Age and played_hours)\n",
    "players_recipe <- recipe(experience ~ Age + played_hours, data = player_training) |>\n",
    "  step_scale(all_predictors()) |>\n",
    "  step_center(all_predictors())\n",
    "players_recipe"
   ]
  },
  {
   "cell_type": "code",
   "execution_count": null,
   "id": "b7ee1cdf-90ca-4076-812a-7ed639460edc",
   "metadata": {},
   "outputs": [],
   "source": [
    "# Creating the specification with tune() as neighbors to find the best k value.\n",
    "players_tune <- nearest_neighbor(weight_func = \"rectangular\", neighbors = tune()) |>\n",
    "    set_engine(\"kknn\") |>\n",
    "    set_mode(\"classification\")\n",
    "players_tune"
   ]
  },
  {
   "cell_type": "markdown",
   "id": "d4854f2e-458e-410b-a737-1d1faee49294",
   "metadata": {},
   "source": [
    "# Discussion\n",
    "\n"
   ]
  }
 ],
 "metadata": {
  "kernelspec": {
   "display_name": "R",
   "language": "R",
   "name": "ir"
  },
  "language_info": {
   "codemirror_mode": "r",
   "file_extension": ".r",
   "mimetype": "text/x-r-source",
   "name": "R",
   "pygments_lexer": "r",
   "version": "4.3.3"
  }
 },
 "nbformat": 4,
 "nbformat_minor": 5
}
