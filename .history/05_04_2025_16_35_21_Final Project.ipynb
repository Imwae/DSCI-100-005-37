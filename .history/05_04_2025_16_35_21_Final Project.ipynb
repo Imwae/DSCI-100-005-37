{
 "cells": [
  {
   "cell_type": "markdown",
   "id": "d18ddf6c-6faa-4721-a98d-f9c6d6a4fdab",
   "metadata": {},
   "source": [
    "# DSCI 100 Group 37: Final Project\n",
    "\n",
    "Raymond Lan, Varun Raval, Tianna Wong, Brendon Yih"
   ]
  },
  {
   "cell_type": "markdown",
   "id": "15321c9c-a8f0-43f1-bf5c-3abd04d3d982",
   "metadata": {},
   "source": [
    "# Predicting Experience Level Using Age and Hours Played\n",
    "\n",
    "## Introduction\n",
    "\n",
    "In this project, we will be working with local game data collected from a virtual world called PLAIcraft, which is run by a Computer Science research group at UBC, led by Frank Wood. PLAIcraft’s primary goal is “to create an advanced artificial intelligence (AI) that can act in a human-like way in a simulated setting” (PLAI, 2025). The data consists of two files: `players.csv` and `sessions.csv`; however, the aim of our analysis only requires the use of `players.csv`. This project aims to confer analysis and modelling of the data, as well as visualizing it graphically to predict any correlations between the variables used. The researchers want to determine what kind of players contribute a significant amount of data so they can target these players during their recruiting efforts. To explore this research goal, we will investigate whether age and playing hours can be used to predict the experience level of a player. The relationship between the variables (experience level, age, and playing hours) will help identify highly engaged players who are more likely to contribute the most data. The analysis of highly engaged players can help the researchers understand player behaviour, which will be used to “train and develop an advanced AI” (PLAI, 2025) that can interact in PLAIcraft more naturally. \n",
    "\n",
    "\n",
    "### Dataset Description \n",
    "\n",
    "The player dataset includes unique data for each individual player. There are 196 observations, which indicate the number of players in the dataset and 7 variables that highlight each players' characteristics and in game behaviour. \n",
    "\n",
    "\n",
    "|Variable        |Type       |Description of Variable                       |\n",
    "|:---------------|:----------|:---------------------------------------------|\n",
    "|experience      |Character  |Experience level of a player                  |\n",
    "|subscribe       |Character  |If the player is subscribed to the news letter|\n",
    "|hashedEmail     |Character  |Player's unique hashed email                  |\n",
    "|played_hours    |Double     |Number of hours played                        |\n",
    "|name            |Character  |Name of player                                |\n",
    "|gender          |Character  |Gender of player                              |\n",
    "|Age             |Double     |Age of player                                 |"
   ]
  },
  {
   "cell_type": "markdown",
   "id": "11e8d92d-2177-42ff-a8f9-0adde758120d",
   "metadata": {},
   "source": [
    "# Methods and Results\n",
    "\n",
    "## Loading the Data into Jupiter\n",
    "\n",
    "Below only the `players.csv` will be loaded in, as it is the only file that we need to complete our data analysis."
   ]
  },
  {
   "cell_type": "code",
   "execution_count": null,
   "id": "69ece06b-98ae-4b0b-81f5-01b1c0b92e9b",
   "metadata": {},
   "outputs": [],
   "source": [
    "library(tidyverse)\n",
    "library(tidymodels)"
   ]
  },
  {
   "cell_type": "code",
   "execution_count": null,
   "id": "71e8548e-1eea-439e-b051-5099ed7c4db7",
   "metadata": {},
   "outputs": [],
   "source": [
    "# Initial data loading\n",
    "\n",
    "player_url<- \"https://raw.githubusercontent.com/tiannawong/dsci100-individual-project-/refs/heads/main/players.csv\"\n",
    "\n",
    "player_data <- read_csv(player_url)\n",
    "head(player_data)"
   ]
  },
  {
   "cell_type": "markdown",
   "id": "e1d6bc5c-bf05-4f33-b68c-f86ec078d86d",
   "metadata": {},
   "source": [
    "The head is shown above for `players.csv`."
   ]
  },
  {
   "cell_type": "markdown",
   "id": "ce8d23fa-83d6-4c7b-bc78-b25f50d3d2db",
   "metadata": {},
   "source": [
    "## Wrangling the Data\n",
    "\n",
    "Below, we will want to choose only the columns that are necessary, since we are trying to predict which experience level plays the most for certain age and playing time.  We will simplify our data by selecting for Experience, played_hours, and Age. We are working with experience as a categorial variable, so we will convert it to a factor type using the `as_factor` function. We will also filter out any NA values that would effect the data analysis using the `drop_na` function."
   ]
  },
  {
   "cell_type": "code",
   "execution_count": null,
   "id": "ad971f1e-9c54-4ade-8bed-873afdace19d",
   "metadata": {},
   "outputs": [],
   "source": [
    "# Wrangling data to use only columns that are needed\n",
    "\n",
    "select_player_data <- player_data |>\n",
    "    mutate(experience = as_factor(experience)) |>\n",
    "    select(experience, Age, played_hours) |>\n",
    "    drop_na()\n",
    "head(select_player_data)"
   ]
  },
  {
   "cell_type": "markdown",
   "id": "b0d0a109-787d-4a9a-a3f9-91573a56445f",
   "metadata": {},
   "source": [
    "### Summary Statistics"
   ]
  },
  {
   "cell_type": "code",
   "execution_count": null,
   "id": "3e3fbf47-6afe-4fcc-b6a8-fefa35a303ac",
   "metadata": {},
   "outputs": [],
   "source": [
    "mean_values<- select_player_data|>\n",
    "    select(played_hours, Age)|>\n",
    "    map_df(mean, na.rm= TRUE)\n",
    "mean_values"
   ]
  },
  {
   "cell_type": "markdown",
   "id": "32f5e58b-80ea-4877-8043-74864857e835",
   "metadata": {},
   "source": [
    "## Exploratory Data Analysis and Visualizations\n",
    "\n",
    "In this project, we want to use KNN classification to predict a new user's experience level based on their age and playing hours. Before we model and train the data, we want to perform simple visualizations to get a better understanding of what we are working with.  Below, are graphs that visualize different aspects of the data."
   ]
  },
  {
   "cell_type": "code",
   "execution_count": null,
   "id": "527edd45-61f7-4036-9045-37063afee50c",
   "metadata": {},
   "outputs": [],
   "source": [
    "# Create bar graph with player count of each experience level\n",
    "\n",
    "select_player_data_bar <- select_player_data |>\n",
    "    ggplot(aes(x = experience, fill = experience)) +\n",
    "    geom_bar(stat = \"count\") +\n",
    "    labs(x = \"The Experience Levels for Different Players\", title = \"Fig 1: The Distribution of Different Experience Levels\", fill = \"Experience Level\")\n",
    "select_player_data_bar"
   ]
  },
  {
   "cell_type": "markdown",
   "id": "a4a90b16-b83a-476b-8d1f-11044f4ee998",
   "metadata": {},
   "source": [
    "**Explanation of Visualization:** Figure 1 shows a bargraph of the amount of players per experience level.  We can see that there are more amateur players than any other players, followed by veterans. Regular and beginner players are more balanced and pro players make up the smallest group."
   ]
  },
  {
   "cell_type": "code",
   "execution_count": null,
   "id": "a7015cca-53fc-4c63-951e-df19fd65637c",
   "metadata": {},
   "outputs": [],
   "source": [
    "# Create scatterplot with Age vs. played_hours\n",
    "\n",
    "select_player_data_plot <- select_player_data |>\n",
    "    mutate(played_mins = (played_hours * 60)) |>\n",
    "    ggplot(aes(x = Age, y = played_mins)) +\n",
    "    ylim(0, 360) +\n",
    "    geom_point(aes(color = experience)) +\n",
    "    labs(x = \"Player's Age in years\", y = \"Number of Minutes Played\", color = \"Type of Experience\", title = \"Fig 2: The Relationship Between Age and Play Time\")\n",
    "select_player_data_plot"
   ]
  },
  {
   "cell_type": "markdown",
   "id": "a7cff7e5-3d0f-44fb-89e4-a2b04560b721",
   "metadata": {},
   "source": [
    "**Explanation of Visualization:** Figure 2 shows a scatterplot of age and the different types of experience levels relative to the playing time in minutes. To make the graph visually pleasing, we had to limit the amount of play time to 6 hours (360 minutes).  From the graph, we are not able to pick up a pattern on age and playing time"
   ]
  },
  {
   "cell_type": "markdown",
   "id": "8f3825c8-27dd-4c8e-8d9e-905cac0983b8",
   "metadata": {},
   "source": [
    "## Training and Modeling the Data\n",
    "\n",
    "To ensure that our data analysis is reproducible, we will set the seed to 123. In this portion, we will start to train and model the players data so that we can predict which experience levels fits with a new data point given. First, we will split the data into 75% training data and 25% testing data. We are using the training data to determine the performance of the classifier. We will create a knn specification model and recipe, making sure to scale and center the data in the recipe. Next, we will create a workflow and perform a 5 fold cross validation on the training data. Then, we will create a new workflow to determine the best K value for the model. "
   ]
  },
  {
   "cell_type": "code",
   "execution_count": null,
   "id": "dff2e1b1-f96b-453f-a810-524e5eaf380b",
   "metadata": {},
   "outputs": [],
   "source": [
    "# Create the 25/75 split of the training data into training and validation\n",
    "\n",
    "set.seed(123)\n",
    "\n",
    "player_split <- select_player_data |>\n",
    "    drop_na()|>\n",
    "    initial_split(prop = 0.75, strata = experience)\n",
    "player_training <- training(player_split)\n",
    "player_testing <- testing(player_split)\n",
    "\n",
    "head(player_training)\n",
    "head(player_testing)"
   ]
  },
  {
   "cell_type": "code",
   "execution_count": null,
   "id": "665fc5c0-7d03-480b-80e1-7271e9d67236",
   "metadata": {},
   "outputs": [],
   "source": [
    "# Create the standardization recipe (scaling all predictors of Age and played_hours)\n",
    "\n",
    "players_recipe <- recipe(experience ~ Age + played_hours, data = player_training) |>\n",
    "  step_scale(all_predictors()) |>\n",
    "  step_center(all_predictors())\n",
    "players_recipe"
   ]
  },
  {
   "cell_type": "code",
   "execution_count": null,
   "id": "b7ee1cdf-90ca-4076-812a-7ed639460edc",
   "metadata": {},
   "outputs": [],
   "source": [
    "# Creating the specification with tune() as neighbors to find the best k value.\n",
    "\n",
    "players_spec <- nearest_neighbor(weight_func = \"rectangular\", neighbors = tune()) |>\n",
    "    set_engine(\"kknn\") |>\n",
    "    set_mode(\"classification\")\n",
    "players_spec"
   ]
  },
  {
   "cell_type": "code",
   "execution_count": null,
   "id": "0f4199f2-a638-4d37-84d7-108350c3ea56",
   "metadata": {},
   "outputs": [],
   "source": [
    "# Set up a grid for the tuning process, use k values from (1, 3, 5, ... 20)\n",
    "\n",
    "k_vals <- tibble(neighbors = seq(1, 20, by = 2)) \n",
    "\n",
    "# Perform 5 cross-validations, and create a workflow\n",
    "\n",
    "players_vfold <- vfold_cv(player_training, v = 5, strata = experience)\n",
    "\n",
    "knn_results <- workflow() |>\n",
    "  add_recipe(players_recipe) |>\n",
    "  add_model(players_spec) |>\n",
    "  tune_grid(resamples = players_vfold, grid = k_vals) |>\n",
    "  collect_metrics()"
   ]
  },
  {
   "cell_type": "code",
   "execution_count": null,
   "id": "c041b52d-7814-4644-a4a1-bcdfc0099603",
   "metadata": {},
   "outputs": [],
   "source": [
    "# Filter the results metrics by accuracy\n",
    "\n",
    "accuracies <- knn_results |>\n",
    "  filter(.metric == \"accuracy\")\n",
    "head(accuracies)"
   ]
  },
  {
   "cell_type": "code",
   "execution_count": null,
   "id": "b5f9dae3-6d2f-4c21-bfc3-63e33d9c6f6e",
   "metadata": {},
   "outputs": [],
   "source": [
    "# Plotting KNN with accuracy\n",
    "\n",
    "accuracy_vs_k <- ggplot(accuracies, aes(x = neighbors, y = mean)) +\n",
    "  geom_point() +\n",
    "  geom_line() +\n",
    "  labs(x = \"Neighbors\", y = \"Accuracy Estimate\", title = \"Fig 3: Plot of Estimated Accuracy vs Number of Neighbours\") +\n",
    "  theme(text = element_text(size = 12))\n",
    "accuracy_vs_k"
   ]
  },
  {
   "cell_type": "markdown",
   "id": "ea88a277-5521-4951-b522-ece6b0d6a4db",
   "metadata": {},
   "source": [
    "**Explanation of Visualization:** Figure 3 shows the number of neighbours with the highest accuracy estimate. Setting the number to K = 3 gives us the highest cross-validation accuracy estimate."
   ]
  },
  {
   "cell_type": "code",
   "execution_count": null,
   "id": "4af34c1e-b4ff-42fd-aaa9-bb70bb9a59f5",
   "metadata": {},
   "outputs": [],
   "source": [
    "# Returning the best k as a numerical answer\n",
    "\n",
    "best_k <- accuracies |>\n",
    "        arrange(desc(mean)) |>\n",
    "        head(1) |>\n",
    "        pull(neighbors)\n",
    "best_k"
   ]
  },
  {
   "cell_type": "markdown",
   "id": "b68cf67e-6233-4fd6-9dd3-4486db5cf8f7",
   "metadata": {},
   "source": [
    "## Performing the Data Analysis \n",
    "\n",
    "We will create a new knn specification model using the K value I found and create a workflow with the testing set to evaluate the accuracy of the classifier on unseen data. \n"
   ]
  },
  {
   "cell_type": "code",
   "execution_count": null,
   "id": "fd8c29c1-7fa2-49f6-85a6-3c308be93808",
   "metadata": {},
   "outputs": [],
   "source": [
    "# Specifying model with the best_k (3)\n",
    "\n",
    "players_tune <- nearest_neighbor(weight_func = \"rectangular\", neighbors = best_k) |>\n",
    "    set_engine(\"kknn\") |>\n",
    "    set_mode(\"classification\")\n",
    "players_tune\n",
    "\n",
    "# Fitting the model\n",
    "\n",
    "players_fit <- workflow() |>\n",
    "  add_recipe(players_recipe) |>\n",
    "  add_model(players_tune) |>\n",
    "  fit(data = player_training)\n",
    "\n",
    "players_fit"
   ]
  },
  {
   "cell_type": "code",
   "execution_count": null,
   "id": "aaaef335-a3ea-410a-af9c-aeebe7ca7f81",
   "metadata": {},
   "outputs": [],
   "source": [
    "# Use fitted model to predict testing set\n",
    "\n",
    "player_test_predictions <- predict(players_fit, player_testing) |>\n",
    "  bind_cols(player_testing)\n",
    "\n",
    "player_test_predictions <- predict(players_fit, player_testing) |>\n",
    "  bind_cols(player_testing)\n",
    "\n",
    "player_test_predictions |>\n",
    "  metrics(truth = experience, estimate = .pred_class) |>\n",
    "  filter(.metric == \"accuracy\")\n",
    "\n",
    "player_test_predictions |>\n",
    "    precision(truth = experience, estimate = .pred_class, event_level=\"first\")\n",
    "\n",
    "player_test_predictions |>\n",
    "    recall(truth = experience, estimate = .pred_class, event_level=\"first\")"
   ]
  },
  {
   "cell_type": "code",
   "execution_count": null,
   "id": "e1cc50ce-547c-46b5-adbf-6486cb2dc4d3",
   "metadata": {},
   "outputs": [],
   "source": [
    "# Creating confusion matrix\n",
    "\n",
    "confusion <- player_test_predictions |>\n",
    "             conf_mat(truth = experience, estimate = .pred_class)\n",
    "confusion"
   ]
  },
  {
   "cell_type": "markdown",
   "id": "330577d6-bd64-44e9-8770-04c4a58d5c33",
   "metadata": {},
   "source": [
    "## Visualization of the Analysis"
   ]
  },
  {
   "cell_type": "code",
   "execution_count": null,
   "id": "2ff3dc12-4d21-4dfd-bfc7-e7b1045b222a",
   "metadata": {},
   "outputs": [],
   "source": [
    "# Create the grid of age/played_hours vals, and arrange in a data frame\n",
    "\n",
    "are_grid <- seq(min(select_player_data_mins$Age),\n",
    "                max(select_player_data_mins$Age),\n",
    "                length.out = 100)\n",
    "\n",
    "smo_grid <- seq(min(select_player_data_mins$played_hours),\n",
    "                max(select_player_data_mins$played_hours),\n",
    "                length.out = 100)\n",
    "\n",
    "asgrid <- as_tibble(expand.grid(Age = are_grid,\n",
    "                                played_hours = smo_grid))\n",
    "\n",
    "# Use the players_fit workflow to make predictions at the grid points\n",
    "\n",
    "knnPredGrid <- predict(players_fit, asgrid)\n",
    "\n",
    "# Bind the predictions as a new column with the grid points\n",
    "\n",
    "prediction_table <- bind_cols(knnPredGrid, asgrid) |>\n",
    "  rename(experience = .pred_class)\n",
    "\n",
    "# Create a plot of the final data analysis \n",
    "\n",
    "final_plot <- select_player_data |>\n",
    "    ggplot() +\n",
    "    geom_point(mapping = aes(x = Age,\n",
    "                           y = played_hours,\n",
    "                           color = experience), alpha = 0.75) +\n",
    "    geom_point(data = prediction_table,\n",
    "             mapping = aes(x = Age,\n",
    "                           y = played_hours,\n",
    "                           color = experience), alpha = 0.05, size = 5) +\n",
    "    labs(color = \"Experience Level\",\n",
    "            x = \"Player's Age in years\",\n",
    "            y = \"Number of Hours Played\",\n",
    "            title = \"Fig 4: Plot of Age Vs Playtime\") +\n",
    "            ylim(0, 225) +\n",
    "    theme(text = element_text(size = 12))\n",
    "final_plot"
   ]
  },
  {
   "cell_type": "markdown",
   "id": "77e56243-6b0c-41ce-b0d9-83b3c383c5de",
   "metadata": {},
   "source": [
    "**Explanation of Visualization:** Figure 4 shows a scatterplot of age and the different types of experience levels relative to the playing time in hours. The colour of the background is the classifier's prediction for each experience level. "
   ]
  },
  {
   "cell_type": "markdown",
   "id": "d4854f2e-458e-410b-a737-1d1faee49294",
   "metadata": {},
   "source": [
    "# Discussion\n",
    "\n"
   ]
  },
  {
   "cell_type": "markdown",
   "id": "e121e3bb-fda0-47e7-be3b-177ce43411bf",
   "metadata": {},
   "source": [
    "In this project, we tried to predict a player's experience level in the virtual world PLAlcraft using their age and hours played. Our analysis involved data wrangling, exploratory visualizations, and K-nearest neighbors (KNN) classification. Find details below for more insight:\n",
    "\n",
    "#### What we found:\n",
    "The dataset consisted of 196 players categorized into five experience levels: Amateur, Veteran, Regular, Beginner, and Pro. Most of the players are amateurs, and the pro players are the rarest.\n",
    "\n",
    "The KNN model achieved the highest cross-validation accuracy (approximately 29.8%) with K = 3.\n",
    "K=3. However, the testing accuracy was only 30%, indicating lower prediction reliability.\n",
    "The model showed low precision and recall in its prediction as well. This meant the model frequently assigned wrong experience levels to players while it also could not find the correct skilled players. For instance, we see that Pro players were often confused as beginners, while many amateur players received incorrect Veteran labels.\n",
    "The confusion matrix revealed that the model struggled to distinguish between experience levels.\n",
    "#### Expectations:\n",
    "The low accuracy suggests that the data with age and hours played can not only predict experience levels with reliability. This aligns with the lack of clear patterns in the scatter plot (Figure 2), where no strong relationship between age, playtime, and experience was seen.\n",
    "We expected some correlation between them, but the results show that other factors might help more with prediction or can help increase prediction reliability.\n",
    "#### Impact:\n",
    "These findings show the need to collect additional variables to improve predictions.\n",
    "The low accuracy results suggest that targeting players based only on age and playtime may not effectively provide the answer/results we are looking for. Instead, a more refined approach might be needed.\n",
    "#### Possible future questions:\n",
    "Will using a different classification style give better results?\n",
    "How do player behaviors (other than the data we have about their behavior) impact experience levels?\n",
    "Could including other variables improve the model/result?\n",
    "\n",
    "# References\n",
    "\n",
    "Timbers, Tiffany, et al. Data science: A First Introduction. CRC Press, 2022.\n",
    "\n",
    "PLAICraft. plaicraft.ai."
   ]
  }
 ],
 "metadata": {
  "kernelspec": {
   "display_name": "R",
   "language": "R",
   "name": "ir"
  },
  "language_info": {
   "codemirror_mode": "r",
   "file_extension": ".r",
   "mimetype": "text/x-r-source",
   "name": "R",
   "pygments_lexer": "r",
   "version": "4.3.3"
  }
 },
 "nbformat": 4,
 "nbformat_minor": 5
}
