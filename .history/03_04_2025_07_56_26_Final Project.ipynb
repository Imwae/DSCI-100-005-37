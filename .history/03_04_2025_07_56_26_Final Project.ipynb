{
 "cells": [
  {
   "cell_type": "markdown",
   "id": "d18ddf6c-6faa-4721-a98d-f9c6d6a4fdab",
   "metadata": {},
   "source": [
    "# DSCI 100 Group 37: Final Project\n",
    "\n",
    "## Description and usage of the game data:\n",
    "\n",
    "In this project, we will be working with local game data from UBC (University of British Columbia), called PLAIcraft, ran by a group of people in the department of Computer Science. This project aims to conver analysis and modelling of the data, visualizing it graphically to predict any correlations between any variables used. The data consists of two files: Players and Sessions.  This project will only require the Players data.  "
   ]
  },
  {
   "cell_type": "markdown",
   "id": "15321c9c-a8f0-43f1-bf5c-3abd04d3d982",
   "metadata": {},
   "source": [
    "# Predicting Experience Level Using Age and Hours Played\n",
    "\n",
    "## Introduction\n",
    "\n",
    "\n",
    "\n",
    "The player dataset includes unique data for each individual player. There are 196 observations, which indicate the number of players in the dataset and 7 variables. \n",
    "\n",
    "|Variable|Type|Description|\n",
    "|--------|----|-----------|\n",
    "|experience|Character|Experience level of a player|\n",
    "|subscribe|Character|If the player is subscribed to the news letter|\n",
    "|hashedEmail|Character|Player's unique hashed email|\n",
    "|played_hours|double|Number of hours played|\n",
    "|name|Character|Name of player|\n",
    "|gender|Character|Gender of player|\n",
    "|Age|Double|Age of player|\n",
    "\n",
    "\n",
    "\n"
   ]
  },
  {
   "cell_type": "code",
   "execution_count": null,
   "id": "38fe1f4b-8075-40a2-b7bc-89317dd4c5a3",
   "metadata": {},
   "outputs": [],
   "source": []
  }
 ],
 "metadata": {
  "kernelspec": {
   "display_name": "R",
   "language": "R",
   "name": "ir"
  },
  "language_info": {
   "codemirror_mode": "r",
   "file_extension": ".r",
   "mimetype": "text/x-r-source",
   "name": "R",
   "pygments_lexer": "r",
   "version": "4.3.3"
  }
 },
 "nbformat": 4,
 "nbformat_minor": 5
}
