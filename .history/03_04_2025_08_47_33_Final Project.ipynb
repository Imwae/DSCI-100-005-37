{
 "cells": [
  {
   "cell_type": "markdown",
   "id": "d18ddf6c-6faa-4721-a98d-f9c6d6a4fdab",
   "metadata": {},
   "source": [
    "# DSCI 100 Group 37: Final Project\n",
    "\n",
    "## Description and usage of the game data:\n",
    "\n",
    "In this project, we will be working with local game data from UBC (University of British Columbia), called PLAIcraft, ran by a group of people in the department of Computer Science. This project aims to conver analysis and modelling of the data, visualizing it graphically to predict any correlations between any variables used. The data consists of two files: Project_Planning_Players.csv and Sessions.  This project will only require the Players data.  "
   ]
  },
  {
   "cell_type": "markdown",
   "id": "15321c9c-a8f0-43f1-bf5c-3abd04d3d982",
   "metadata": {},
   "source": [
    "## Predicting Experience Level Using Age and Hours Played\n",
    "\n",
    "### Introduction\n",
    "\n",
    "\n",
    "\n",
    "The player dataset includes unique data for each individual player. There are 196 observations, which indicate the number of players in the dataset and 7 variables. \n",
    "\n",
    "|Variable|Type|Description|\n",
    "|--------|----|-----------|\n",
    "|experience|Character|Experience level of a player|\n",
    "|subscribe|Character|If the player is subscribed to the news letter|\n",
    "|hashedEmail|Character|Player's unique hashed email|\n",
    "|played_hours|double|Number of hours played|\n",
    "|name|Character|Name of player|\n",
    "|gender|Character|Gender of player|\n",
    "|Age|Double|Age of player|"
   ]
  },
  {
   "cell_type": "markdown",
   "id": "11e8d92d-2177-42ff-a8f9-0adde758120d",
   "metadata": {},
   "source": [
    "## Loading the data into Jupiter\n",
    "\n",
    "Below only the Project_Planning_Players.csv will be loaded in, as it is the only file that we need to complete the project"
   ]
  },
  {
   "cell_type": "code",
   "execution_count": null,
   "id": "69ece06b-98ae-4b0b-81f5-01b1c0b92e9b",
   "metadata": {},
   "outputs": [],
   "source": [
    "library(tidyverse)\n",
    "library(tidymodels)"
   ]
  },
  {
   "cell_type": "code",
   "execution_count": null,
   "id": "71e8548e-1eea-439e-b051-5099ed7c4db7",
   "metadata": {},
   "outputs": [],
   "source": [
    "player_url<- \"https://raw.githubusercontent.com/tiannawong/dsci100-individual-project-/refs/heads/main/players.csv\"\n",
    "\n",
    "player_data <- read_csv(player_url)\n",
    "head(player_data)\n",
    "tail(player_data)"
   ]
  },
  {
   "cell_type": "markdown",
   "id": "e1d6bc5c-bf05-4f33-b68c-f86ec078d86d",
   "metadata": {},
   "source": [
    "The head and the tail is shown above for *Project_Planning_Players.csv*"
   ]
  },
  {
   "cell_type": "markdown",
   "id": "ce8d23fa-83d6-4c7b-bc78-b25f50d3d2db",
   "metadata": {},
   "source": [
    "## Wrangling\n",
    "\n",
    "Below, we want to choose all the columns we need, as we are trying to predict which experience level plays the most for certain age and playing time.  We will make it simplified by selecting only Experience, played_hours, and Age."
   ]
  },
  {
   "cell_type": "code",
   "execution_count": null,
   "id": "ad971f1e-9c54-4ade-8bed-873afdace19d",
   "metadata": {},
   "outputs": [],
   "source": [
    "select_player_data <- player_data |>\n",
    "    select(experience, Age, played_hours)\n",
    "head(select_player_data)\n",
    "tail(select_player_data)"
   ]
  },
  {
   "cell_type": "markdown",
   "id": "32f5e58b-80ea-4877-8043-74864857e835",
   "metadata": {},
   "source": [
    "## Methods and Results\n",
    "\n",
    "In this project, we want to use k-nn classification to predict a new user's experience level.  Before we model and train the data, we want to perform simple visualizations to get a better understanding of what we are working with.  Below will be graphs that visualize different aspects of the data."
   ]
  },
  {
   "cell_type": "code",
   "execution_count": null,
   "id": "527edd45-61f7-4036-9045-37063afee50c",
   "metadata": {},
   "outputs": [],
   "source": [
    "select_player_data_hist <- select_player_data |>\n",
    "    ggplot(aes(x = experience)) +\n",
    "    geom_histogram(binwidth = 1, color = experience) +\n",
    "    labs(x = \"The experience levels for different players\", color = \"Experience level\", title = \"The distribution of different experience levels\")\n",
    "select_player_data_hist"
   ]
  }
 ],
 "metadata": {
  "kernelspec": {
   "display_name": "R",
   "language": "R",
   "name": "ir"
  },
  "language_info": {
   "codemirror_mode": "r",
   "file_extension": ".r",
   "mimetype": "text/x-r-source",
   "name": "R",
   "pygments_lexer": "r",
   "version": "4.3.3"
  }
 },
 "nbformat": 4,
 "nbformat_minor": 5
}
